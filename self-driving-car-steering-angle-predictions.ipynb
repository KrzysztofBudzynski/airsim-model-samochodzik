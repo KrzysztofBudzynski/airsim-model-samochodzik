{
 "cells": [
  {
   "cell_type": "markdown",
   "metadata": {},
   "source": [
    "**Importing Modules**"
   ]
  },
  {
   "cell_type": "code",
   "execution_count": 1,
   "metadata": {
    "_cell_guid": "b1076dfc-b9ad-4769-8c92-a6c4dae69d19",
    "_uuid": "8f2839f25d086af736a60e9eeb907d3b93b6e0e5"
   },
   "outputs": [
    {
     "name": "stdout",
     "output_type": "stream",
     "text": [
      "['archive.zip', 'data', 'img_zaznaczone', 'self driving car training data']\n",
      "['driving_log.csv', 'IMG']\n"
     ]
    }
   ],
   "source": [
    "import numpy as np\n",
    "import pandas as pd\n",
    "import cv2\n",
    "import os\n",
    "import matplotlib.pyplot as plt\n",
    "\n",
    "from keras import layers\n",
    "\n",
    "from keras import models\n",
    "\n",
    "from keras.layers import (Input, Dense, Activation, ZeroPadding2D,\n",
    "BatchNormalization, Flatten, Conv2D, concatenate, Lambda)\n",
    "\n",
    "from keras.layers import (AveragePooling2D, MaxPooling2D, Dropout,\n",
    "GlobalMaxPooling2D, GlobalAveragePooling2D)\n",
    "\n",
    "from keras.models import Model, load_model\n",
    "from keras import regularizers, optimizers\n",
    "\n",
    "from sklearn.model_selection import train_test_split\n",
    "\n",
    "from keras.utils import to_categorical\n",
    "\n",
    "print(os.listdir(r'C:\\Users\\kszyh\\Desktop\\dane'))\n",
    "print(os.listdir(r'C:\\Users\\kszyh\\Desktop\\dane\\self driving car training data\\data'))"
   ]
  },
  {
   "cell_type": "code",
   "execution_count": 2,
   "metadata": {
    "tags": []
   },
   "outputs": [],
   "source": [
    "from tqdm import tqdm"
   ]
  },
  {
   "cell_type": "markdown",
   "metadata": {},
   "source": [
    "**Reading Driving Data from driving_log.csv**"
   ]
  },
  {
   "cell_type": "code",
   "execution_count": 3,
   "metadata": {
    "_cell_guid": "79c7e3d0-c299-4dcb-8224-4455121ee9b0",
    "_uuid": "d629ff2d2480ee46fbb7e2d37f6b5fab8052498a"
   },
   "outputs": [
    {
     "name": "stdout",
     "output_type": "stream",
     "text": [
      "8036\n"
     ]
    }
   ],
   "source": [
    "path = r'C:\\Users\\kszyh\\Desktop\\dane\\self driving car training data\\data'\n",
    "path = os.path.join(path,'driving_log.csv')\n",
    "\n",
    "data_frame = pd.read_csv(path)\n",
    "center = data_frame[data_frame.columns[0]].values\n",
    "left = data_frame[data_frame.columns[1]].values\n",
    "right = data_frame[data_frame.columns[2]].values\n",
    "steering = data_frame[data_frame.columns[3]].values\n",
    "\n",
    "no_of_examples = len(steering)\n",
    "print(no_of_examples)"
   ]
  },
  {
   "cell_type": "markdown",
   "metadata": {},
   "source": [
    "**Helper Function for data Augmentation**"
   ]
  },
  {
   "cell_type": "code",
   "execution_count": 4,
   "metadata": {},
   "outputs": [],
   "source": [
    "def random_flip(image, steering_angle):\n",
    "    \n",
    "    image = cv2.flip(image, 1)\n",
    "    steering_angle = -steering_angle\n",
    "    \n",
    "    return image, steering_angle"
   ]
  },
  {
   "cell_type": "markdown",
   "metadata": {},
   "source": [
    "**Collecting the Training Data**"
   ]
  },
  {
   "cell_type": "code",
   "execution_count": 5,
   "metadata": {},
   "outputs": [
    {
     "name": "stderr",
     "output_type": "stream",
     "text": [
      "100%|█████████████████████████████████████████████████████████████████████████████| 8036/8036 [01:03<00:00, 126.02it/s]\n"
     ]
    },
    {
     "name": "stdout",
     "output_type": "stream",
     "text": [
      "(48216, 100, 100, 1)\n",
      "(48216, 1)\n"
     ]
    }
   ],
   "source": [
    "train_x = []\n",
    "train_y = []\n",
    "\n",
    "img_folder = r'C:\\Users\\kszyh\\Desktop\\dane\\data\\IMG'\n",
    "img_folder = r'C:\\Users\\kszyh\\Desktop\\dane\\img_zaznaczone\\IMG'\n",
    "stear_adjust_factor = 0.2\n",
    "IMAGE_HEIGHT = 100 \n",
    "IMAGE_WIDTH = 100\n",
    "\n",
    "for i in tqdm(range(no_of_examples)):\n",
    "    \n",
    "    for choice in range(3):\n",
    "        \n",
    "        if choice == 0: #Center\n",
    "            img = cv2.imread(os.path.join(img_folder,center[i].split('IMG/')[1]))\n",
    "            steering_angle = steering[i]\n",
    "\n",
    "        elif choice == 1: #Left\n",
    "            img = cv2.imread(os.path.join(img_folder,left[i].split('IMG/')[1]))\n",
    "            steering_angle = steering[i] + stear_adjust_factor\n",
    "\n",
    "        elif choice == 2: #Right\n",
    "            img = cv2.imread(os.path.join(img_folder,right[i].split('IMG/')[1]))\n",
    "            steering_angle = steering[i] - stear_adjust_factor\n",
    "        \n",
    "        img = cv2.cvtColor(img, cv2.COLOR_RGB2HSV)[:,:,1]\n",
    "        img = cv2.resize(img,(IMAGE_HEIGHT,IMAGE_WIDTH))\n",
    "        \n",
    "        train_x.append(img)\n",
    "        train_y.append(steering_angle)\n",
    "        \n",
    "        flip_img,steering_angle = random_flip(img,steering_angle)\n",
    "                \n",
    "        train_x.append(flip_img)\n",
    "        train_y.append(steering_angle)\n",
    "        \n",
    "\n",
    "train_x = np.array(train_x)\n",
    "train_x = np.reshape(train_x,[train_x.shape[0],train_x.shape[1],train_x.shape[2],1])\n",
    "\n",
    "train_y = np.array(train_y)\n",
    "train_y = np.reshape(train_y,[train_y.shape[0],1])\n",
    "\n",
    "print(train_x.shape)\n",
    "print(train_y.shape)"
   ]
  },
  {
   "cell_type": "markdown",
   "metadata": {},
   "source": [
    "**Splitting the Training Data into Train and Test sets**"
   ]
  },
  {
   "cell_type": "code",
   "execution_count": 6,
   "metadata": {},
   "outputs": [
    {
     "name": "stdout",
     "output_type": "stream",
     "text": [
      "<class 'numpy.ndarray'> (9644, 100, 100, 1)\n",
      "<class 'numpy.ndarray'> (9644, 1)\n"
     ]
    }
   ],
   "source": [
    "x_train,x_test,y_train,y_test = train_test_split(train_x,train_y,random_state=42,test_size=.20)\n",
    "print(type(x_test), x_test.shape)\n",
    "print(type(y_test), y_test.shape)"
   ]
  },
  {
   "cell_type": "code",
   "execution_count": 10,
   "metadata": {},
   "outputs": [
    {
     "data": {
      "text/plain": [
       "(100, 100, 1)"
      ]
     },
     "execution_count": 10,
     "metadata": {},
     "output_type": "execute_result"
    }
   ],
   "source": [
    "x_test[0].shape"
   ]
  },
  {
   "cell_type": "code",
   "execution_count": 11,
   "metadata": {
    "tags": []
   },
   "outputs": [],
   "source": [
    "import tensorflow as tf"
   ]
  },
  {
   "cell_type": "markdown",
   "metadata": {},
   "source": [
    "**Neural Network Architecture**"
   ]
  },
  {
   "cell_type": "code",
   "execution_count": 12,
   "metadata": {},
   "outputs": [
    {
     "name": "stdout",
     "output_type": "stream",
     "text": [
      "Model: \"model\"\n",
      "_________________________________________________________________\n",
      " Layer (type)                Output Shape              Param #   \n",
      "=================================================================\n",
      " input_1 (InputLayer)        [(None, 100, 100, 1)]     0         \n",
      "                                                                 \n",
      " conv2d (Conv2D)             (None, 100, 100, 32)      320       \n",
      "                                                                 \n",
      " conv2d_1 (Conv2D)           (None, 100, 100, 32)      9248      \n",
      "                                                                 \n",
      " max_pooling2d (MaxPooling2D  (None, 50, 50, 32)       0         \n",
      " )                                                               \n",
      "                                                                 \n",
      " conv2d_2 (Conv2D)           (None, 50, 50, 64)        18496     \n",
      "                                                                 \n",
      " conv2d_3 (Conv2D)           (None, 50, 50, 64)        36928     \n",
      "                                                                 \n",
      " max_pooling2d_1 (MaxPooling  (None, 25, 25, 64)       0         \n",
      " 2D)                                                             \n",
      "                                                                 \n",
      " conv2d_4 (Conv2D)           (None, 25, 25, 128)       73856     \n",
      "                                                                 \n",
      " max_pooling2d_2 (MaxPooling  (None, 12, 12, 128)      0         \n",
      " 2D)                                                             \n",
      "                                                                 \n",
      " conv2d_5 (Conv2D)           (None, 12, 12, 128)       147584    \n",
      "                                                                 \n",
      " max_pooling2d_3 (MaxPooling  (None, 6, 6, 128)        0         \n",
      " 2D)                                                             \n",
      "                                                                 \n",
      " flatten (Flatten)           (None, 4608)              0         \n",
      "                                                                 \n",
      " dropout (Dropout)           (None, 4608)              0         \n",
      "                                                                 \n",
      " batch_normalization (BatchN  (None, 4608)             18432     \n",
      " ormalization)                                                   \n",
      "                                                                 \n",
      " dense (Dense)               (None, 512)               2359808   \n",
      "                                                                 \n",
      " dense_1 (Dense)             (None, 256)               131328    \n",
      "                                                                 \n",
      " dense_2 (Dense)             (None, 64)                16448     \n",
      "                                                                 \n",
      " dense_3 (Dense)             (None, 1)                 65        \n",
      "                                                                 \n",
      "=================================================================\n",
      "Total params: 2,812,513\n",
      "Trainable params: 2,803,297\n",
      "Non-trainable params: 9,216\n",
      "_________________________________________________________________\n",
      "None\n",
      "Epoch 1/10\n"
     ]
    },
    {
     "name": "stderr",
     "output_type": "stream",
     "text": [
      "E:\\conda\\envs\\keras\\lib\\site-packages\\keras\\optimizers\\legacy\\adam.py:117: UserWarning: The `lr` argument is deprecated, use `learning_rate` instead.\n",
      "  super().__init__(name, **kwargs)\n"
     ]
    },
    {
     "name": "stdout",
     "output_type": "stream",
     "text": [
      "1206/1206 [==============================] - 490s 406ms/step - loss: 0.2238 - mse: 0.2238 - val_loss: 0.0213 - val_mse: 0.0213\n",
      "Epoch 2/10\n",
      "1206/1206 [==============================] - 484s 402ms/step - loss: 0.0285 - mse: 0.0285 - val_loss: 0.0245 - val_mse: 0.0245\n",
      "Epoch 3/10\n",
      "1206/1206 [==============================] - 490s 406ms/step - loss: 0.0302 - mse: 0.0302 - val_loss: 0.0230 - val_mse: 0.0230\n",
      "Epoch 4/10\n",
      "1206/1206 [==============================] - 494s 410ms/step - loss: 0.0282 - mse: 0.0282 - val_loss: 0.0236 - val_mse: 0.0236\n",
      "Epoch 5/10\n",
      "1206/1206 [==============================] - 495s 411ms/step - loss: 0.0266 - mse: 0.0266 - val_loss: 0.0241 - val_mse: 0.0241\n",
      "Epoch 6/10\n",
      "1206/1206 [==============================] - 545s 452ms/step - loss: 0.0249 - mse: 0.0249 - val_loss: 0.0227 - val_mse: 0.0227\n",
      "Epoch 7/10\n",
      "1206/1206 [==============================] - 576s 477ms/step - loss: 0.0238 - mse: 0.0238 - val_loss: 0.0213 - val_mse: 0.0213\n",
      "Epoch 8/10\n",
      "1206/1206 [==============================] - 500s 414ms/step - loss: 0.0231 - mse: 0.0231 - val_loss: 0.0229 - val_mse: 0.0229\n",
      "Epoch 9/10\n",
      "1206/1206 [==============================] - 497s 412ms/step - loss: 0.0225 - mse: 0.0225 - val_loss: 0.0234 - val_mse: 0.0234\n",
      "Epoch 10/10\n",
      "1206/1206 [==============================] - 507s 420ms/step - loss: 0.0220 - mse: 0.0220 - val_loss: 0.0256 - val_mse: 0.0256\n"
     ]
    }
   ],
   "source": [
    "def model(height,width):\n",
    "        \n",
    "    x_input = Input(shape=(height,width,1))\n",
    "    \n",
    "    x = Lambda(lambda x: x/127.5-1.0)(x_input)\n",
    "    \n",
    "    x = Conv2D(32,(3,3),activation='relu',padding='same')(x_input)\n",
    "    \n",
    "    x = Conv2D(32,(3,3),activation='relu',padding='same')(x)\n",
    "    x = MaxPooling2D((2,2),padding='valid')(x)\n",
    "    \n",
    "    x = Conv2D(64,(3,3),activation='relu',padding='same')(x)\n",
    "    \n",
    "    x = Conv2D(64,(3,3),activation='relu',padding='same')(x)\n",
    "    x = MaxPooling2D((2,2),padding='valid')(x)\n",
    "    \n",
    "    x = Conv2D(128,(3,3),activation='relu',padding='same')(x)\n",
    "    x = MaxPooling2D((2,2),padding='valid')(x)\n",
    "    \n",
    "    x = Conv2D(128,(3,3),activation='relu',padding='same')(x)\n",
    "    x = MaxPooling2D((2,2),padding='valid')(x)\n",
    "    \n",
    "    x = Flatten()(x)\n",
    "    x = Dropout(0.5)(x)\n",
    "       \n",
    "    x = BatchNormalization()(x)\n",
    "    x = Dense(512)(x)\n",
    "    x = Dense(256)(x)\n",
    "    x = Dense(64)(x)\n",
    "    x = Dense(1)(x)\n",
    "    \n",
    "    model = Model(inputs=x_input,outputs=x,name='model')\n",
    "    \n",
    "    return model\n",
    "\n",
    "with tf.device('/CPU:0'):\n",
    "    \n",
    "    model = model(IMAGE_HEIGHT,IMAGE_WIDTH)\n",
    "    print(model.summary())\n",
    "\n",
    "    opt = optimizers.Adam(lr=0.0001)\n",
    "    model.compile(loss='mse',\n",
    "                 optimizer=opt,\n",
    "                 metrics=['mse'])\n",
    "\n",
    "    hist = model.fit(x_train,y_train,validation_data=(x_test,y_test),batch_size=32,epochs=10)"
   ]
  },
  {
   "cell_type": "markdown",
   "metadata": {},
   "source": [
    "**Saving the Model**"
   ]
  },
  {
   "cell_type": "code",
   "execution_count": 13,
   "metadata": {},
   "outputs": [],
   "source": [
    "model.save('model_sterowanie.h5')"
   ]
  }
 ],
 "metadata": {
  "kernelspec": {
   "display_name": "Python 3 (ipykernel)",
   "language": "python",
   "name": "python3"
  },
  "language_info": {
   "codemirror_mode": {
    "name": "ipython",
    "version": 3
   },
   "file_extension": ".py",
   "mimetype": "text/x-python",
   "name": "python",
   "nbconvert_exporter": "python",
   "pygments_lexer": "ipython3",
   "version": "3.9.16"
  }
 },
 "nbformat": 4,
 "nbformat_minor": 4
}
