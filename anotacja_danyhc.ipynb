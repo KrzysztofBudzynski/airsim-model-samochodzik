{
 "cells": [
  {
   "cell_type": "code",
   "execution_count": 38,
   "id": "daa0fe14",
   "metadata": {},
   "outputs": [],
   "source": [
    "import torch\n",
    "import cv2 as cv\n",
    "import numpy as np\n",
    "import sys\n",
    "import os\n",
    "from PIL import Image\n",
    "import matplotlib.pyplot as plt\n",
    "from tqdm import tqdm\n",
    "from utils.utils import letterbox, driving_area_mask, lane_line_mask,\\\n",
    "    split_for_trace_model, non_max_suppression, plot_one_box, scale_coords, clip_coords\n",
    "from time import time"
   ]
  },
  {
   "cell_type": "code",
   "execution_count": 41,
   "id": "875514be",
   "metadata": {},
   "outputs": [],
   "source": [
    "def detect_and_save(model, file, file_name):\n",
    "    loop_time = time()\n",
    "    with torch.no_grad():\n",
    "        model = model.cuda()\n",
    "        scr = file\n",
    "        img0 = scr.copy()\n",
    "        img = cv.resize(img0, (640,480), interpolation=cv.INTER_NEAREST)\n",
    "        output = img.copy()\n",
    "        output = np.zeros([480, 640, 3])\n",
    "            \n",
    "        img = img.transpose(2, 0, 1)\n",
    "        img = torch.from_numpy(img).cuda()\n",
    "        img = img.float().half()\n",
    "        img /= 255.0\n",
    "        img = img.unsqueeze(0)\n",
    "        [pred,anchor_grid],seg,ll = model(img)\n",
    "\n",
    "        masking = True\n",
    "        obj_det = True\n",
    "            \n",
    "        if masking:\n",
    "            da_seg_mask = seg\n",
    "            _, da_seg_mask = torch.max(da_seg_mask, 1)\n",
    "            da_seg_mask = da_seg_mask.int().squeeze().cpu().numpy()\n",
    "                \n",
    "            ll_seg_mask = ll\n",
    "            ll_seg_mask = torch.round(ll_seg_mask).squeeze(1)\n",
    "            ll_seg_mask = ll_seg_mask.int().squeeze().cpu().numpy()\n",
    "                \n",
    "            color_area = np.zeros((da_seg_mask.shape[0], da_seg_mask.shape[1], 3), dtype=np.uint8)\n",
    "                \n",
    "            color_area[da_seg_mask == 1] = [0, 255, 0]\n",
    "            color_area[ll_seg_mask == 1] = [255, 0, 0]\n",
    "            color_seg = color_area\n",
    "            color_seg = color_seg[..., ::-1]\n",
    "            color_mask = np.mean(color_seg, 2)\n",
    "            output[color_mask != 0] = output[color_mask != 0] * 0.5 + color_seg[color_mask != 0] * 0.5\n",
    "                \n",
    "        if obj_det:\n",
    "            pred = split_for_trace_model(pred,anchor_grid)\n",
    "            pred = non_max_suppression(pred)\n",
    "            pred0 = pred[0]\n",
    "                \n",
    "            img0_shape = output.shape\n",
    "            clip_coords(pred0, img0_shape)\n",
    "                \n",
    "            for det in pred0:\n",
    "                *xyxy, _, _ = det\n",
    "                plot_one_box(xyxy, output)\n",
    "                \n",
    "        to_save = Image.fromarray(output.astype(np.uint8))\n",
    "        to_save.save('../dane/img_zaznaczone/' + file_name)\n",
    "        #print(\"FPS {}\".format(1.0 / (time() - loop_time)))\n",
    "        loop_time = time()"
   ]
  },
  {
   "cell_type": "code",
   "execution_count": 42,
   "id": "168b9ec0",
   "metadata": {},
   "outputs": [],
   "source": [
    "model = torch.jit.load('data/weights/yolopv2.pt')\n",
    "model = model.cuda().half().eval()"
   ]
  },
  {
   "cell_type": "code",
   "execution_count": 43,
   "id": "5d6e70c9",
   "metadata": {},
   "outputs": [
    {
     "name": "stderr",
     "output_type": "stream",
     "text": [
      "100%|████████████████████████████████████████████████████████████████████████████| 24108/24108 [18:45<00:00, 21.43it/s]\n"
     ]
    }
   ],
   "source": [
    "path_to_dir = '../dane/data/IMG/'\n",
    "dir_files = os.listdir(path_to_dir)\n",
    "for file_name in tqdm(dir_files):\n",
    "    img = np.asarray(Image.open(path_to_dir + file_name))\n",
    "    detect_and_save(model, img, file_name)"
   ]
  }
 ],
 "metadata": {
  "kernelspec": {
   "display_name": "Python 3 (ipykernel)",
   "language": "python",
   "name": "python3"
  },
  "language_info": {
   "codemirror_mode": {
    "name": "ipython",
    "version": 3
   },
   "file_extension": ".py",
   "mimetype": "text/x-python",
   "name": "python",
   "nbconvert_exporter": "python",
   "pygments_lexer": "ipython3",
   "version": "3.9.16"
  }
 },
 "nbformat": 4,
 "nbformat_minor": 5
}
